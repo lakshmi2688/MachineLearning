{
  "nbformat": 4,
  "nbformat_minor": 0,
  "metadata": {
    "kernelspec": {
      "display_name": "Python 3",
      "language": "python",
      "name": "python3"
    },
    "language_info": {
      "codemirror_mode": {
        "name": "ipython",
        "version": 3
      },
      "file_extension": ".py",
      "mimetype": "text/x-python",
      "name": "python",
      "nbconvert_exporter": "python",
      "pygments_lexer": "ipython3",
      "version": "3.7.7"
    },
    "colab": {
      "name": "lab1.ipynb",
      "provenance": [],
      "collapsed_sections": [
        "VtSD4-mI_NzH",
        "Z0-jWkLh_N0p",
        "Xr_8Uc2o_N3L",
        "2KgvKgLE_N6x",
        "zURQ2S9A_N7e",
        "mzfAkWlf_N8K",
        "Jf006dY4_N8L",
        "ULDrSnQY_N89",
        "PD9vy8Ka_N9Q"
      ]
    }
  },
  "cells": [
    {
      "cell_type": "markdown",
      "metadata": {
        "id": "fxjkqVAz_Npg",
        "colab_type": "text"
      },
      "source": [
        "# <center> Introduction to Python and Scikit-learn</center>\n",
        "<center> Corinne Jones, TA </center>\n",
        "<center> DATA 558, Spring 2020 </center>"
      ]
    },
    {
      "cell_type": "markdown",
      "metadata": {
        "id": "1ibbP3JB_Npj",
        "colab_type": "text"
      },
      "source": [
        "# 1 Introduction\n",
        "In this lab you will learn the following:\n",
        "- How to install Python and Python packages\n",
        "- How to perform basic operations in Python\n",
        "- How to load packages and use common functions from NumPy\n",
        "- How to read in and manipulate datasets with Pandas\n",
        "- How to split a dataset into training and testing sets with scikit-learn\n",
        "- How to fit nearest neighbors models in scikit-learn and use them to make predictions\n",
        "\n",
        "Some parts of this lab are adapted from https://github.com/amueller/introduction_to_ml_with_python and the corresponding book."
      ]
    },
    {
      "cell_type": "markdown",
      "metadata": {
        "id": "dCT81Lzq_Npn",
        "colab_type": "text"
      },
      "source": [
        "## 1.1 Installing Python \n",
        "There are many ways to install Python, including:\n",
        "- With Anaconda: https://www.continuum.io/downloads\n",
        "- Directly from the Python website: https://www.python.org/downloads/\n",
        "\n",
        "It tends to be easier to use Anaconda. We will be using Python 3.x. For these labs I will be using Python 3.7. Python 2.x used to be quite popular but reached its end of life at the beginning of this year."
      ]
    },
    {
      "cell_type": "markdown",
      "metadata": {
        "id": "-FhKNqMb_Npq",
        "colab_type": "text"
      },
      "source": [
        "## 1.2 Installing Packages\n",
        "Like in R and many other languages, you will often need to use functions not built into Python. In this tutorial we will be using numpy, scikit-learn, matplotlib, and pandas. If you are using Anaconda, they may be already installed. If not, you can install them at the command line via\n",
        "~~~\n",
        "conda install numpy scikit-learn matplotlib pandas\n",
        "~~~\n",
        "On the other hand, if you are using pip to install packages, you can do so via\n",
        "~~~\n",
        "pip install numpy scikit-learn matplotlib pandas\n",
        "~~~\n",
        "On Windows, if you don't use Anaconda you may encounter problems installing packages. In that case, there are a bunch of packages you can install from here: http://www.lfd.uci.edu/~gohlke/pythonlibs/  This website contains Windows binaries for many packages. These files have strings like cp27 and cp36 in their names. These correspond to the Python versions. Make sure you also correctly download either the 32- or 64-bit version, depending on whether you have 32- or 64-bit Python."
      ]
    },
    {
      "cell_type": "markdown",
      "metadata": {
        "id": "byxve7GF_Npr",
        "colab_type": "text"
      },
      "source": [
        "## 1.3 Choosing a development environment\n",
        "Like RStudio for R, there are integrated development environments (IDEs) for Python. These make life a lot easier! For the labs we will be using Jupyter notebooks. If you are using Anaconda, run\n",
        "~~~\n",
        "conda install jupyter nb_conda\n",
        "~~~\n",
        "in the command line. Otherwise, try running\n",
        "~~~\n",
        "pip3 install jupyter\n",
        "~~~\n",
        "To start a Jupyter notebook, go to the command line and type \n",
        "~~~\n",
        "jupyter notebook\n",
        "~~~\n",
        "\n",
        "While Jupyter notebooks are great for class, they're not as convenient when writing large quantities of code. This Stack Overflow page has a nice comparison of many IDEs, so you can choose based on your preferences: http://stackoverflow.com/questions/81584/what-ide-to-use-for-python\n",
        "PyCharm, Eclipse with PyDev, Komodo, Emacs, and Spyder seem to be some of the more popular ones.\n",
        "Features of good IDEs include automatic code completion, an integrated debugger, error markup, version control integration (http://git-scm.com/)..."
      ]
    },
    {
      "cell_type": "markdown",
      "metadata": {
        "id": "bAk3RbUR_Nps",
        "colab_type": "text"
      },
      "source": [
        "# 2 Basic operations and data types"
      ]
    },
    {
      "cell_type": "markdown",
      "metadata": {
        "id": "dXk_ffWm_Npt",
        "colab_type": "text"
      },
      "source": [
        "As you'll see in this section, most of the operations in Python are similar to those in other languages like R and MATLAB. "
      ]
    },
    {
      "cell_type": "markdown",
      "metadata": {
        "id": "V47TiRaI_Npu",
        "colab_type": "text"
      },
      "source": [
        "## 2.1 Arithmetic operations, lists, and dictionaries\n",
        "Some of the most important things you need to know are:\n",
        "- Python uses zero-based indexing.\n",
        "- Indentations matter.\n",
        "- The exponentiation operator is `**`, not `^`.\n",
        "\n",
        "We will see these below."
      ]
    },
    {
      "cell_type": "code",
      "metadata": {
        "id": "gtGz2Ws3_Npz",
        "colab_type": "code",
        "colab": {}
      },
      "source": [
        "# Don't worry about these two lines. They just tell the notebook to display all of the results.\n",
        "from IPython.core.interactiveshell import InteractiveShell\n",
        "InteractiveShell.ast_node_interactivity = \"all\""
      ],
      "execution_count": 0,
      "outputs": []
    },
    {
      "cell_type": "code",
      "metadata": {
        "id": "1HGolCYL_NqB",
        "colab_type": "code",
        "colab": {
          "base_uri": "https://localhost:8080/",
          "height": 35
        },
        "outputId": "b6ea02f1-51dc-45e2-f1d5-0a0bf2633719"
      },
      "source": [
        "# Text after a pound sign is a comment.\n",
        "(2 / 8) ** 3 + 2.1 * .003  # Two asterisks denote \"to the power of\". Not ^ like in R."
      ],
      "execution_count": 2,
      "outputs": [
        {
          "output_type": "execute_result",
          "data": {
            "text/plain": [
              "0.021925"
            ]
          },
          "metadata": {
            "tags": []
          },
          "execution_count": 2
        }
      ]
    },
    {
      "cell_type": "code",
      "metadata": {
        "id": "krO5l7Dh_NqM",
        "colab_type": "code",
        "colab": {
          "base_uri": "https://localhost:8080/",
          "height": 35
        },
        "outputId": "1ae9a087-e105-4505-8da4-050ddd6ec6c6"
      },
      "source": [
        "2/8  # Unlike in Python 2, Python 3 doesn't perform integer division. If you don't know what this is, don't \n",
        "     # worry about it."
      ],
      "execution_count": 3,
      "outputs": [
        {
          "output_type": "execute_result",
          "data": {
            "text/plain": [
              "0.25"
            ]
          },
          "metadata": {
            "tags": []
          },
          "execution_count": 3
        }
      ]
    },
    {
      "cell_type": "code",
      "metadata": {
        "id": "E-Hqb4I4_NqU",
        "colab_type": "code",
        "colab": {
          "base_uri": "https://localhost:8080/",
          "height": 35
        },
        "outputId": "67f8490a-f1ba-425b-a0a1-970e219ae030"
      },
      "source": [
        "x = 3  # This sets the variable x to the number 3.\n",
        "x_new = x+1  # Names can't have periods in them, unlike in R.\n",
        "x_new "
      ],
      "execution_count": 4,
      "outputs": [
        {
          "output_type": "execute_result",
          "data": {
            "text/plain": [
              "4"
            ]
          },
          "metadata": {
            "tags": []
          },
          "execution_count": 4
        }
      ]
    },
    {
      "cell_type": "code",
      "metadata": {
        "id": "NhzZcoZH_Nqk",
        "colab_type": "code",
        "colab": {
          "base_uri": "https://localhost:8080/",
          "height": 35
        },
        "outputId": "cb6c505d-9a66-4532-c189-de8642ae242f"
      },
      "source": [
        "x2 = [4, 5, 6]\n",
        "x2+y  # Adding two lists concatenates them. There is a separate array type we will introduce in a minute."
      ],
      "execution_count": 7,
      "outputs": [
        {
          "output_type": "execute_result",
          "data": {
            "text/plain": [
              "[4, 5, 6, 10, 20, 30]"
            ]
          },
          "metadata": {
            "tags": []
          },
          "execution_count": 7
        }
      ]
    },
    {
      "cell_type": "code",
      "metadata": {
        "id": "Au1lske4_Nqu",
        "colab_type": "code",
        "colab": {
          "base_uri": "https://localhost:8080/",
          "height": 35
        },
        "outputId": "63b755af-6f13-4d8d-b38b-e78133fbb10f"
      },
      "source": [
        "x2[-2]  # Using a minus sign before a number gives the element that is that far from the end, unlike in R"
      ],
      "execution_count": 8,
      "outputs": [
        {
          "output_type": "execute_result",
          "data": {
            "text/plain": [
              "5"
            ]
          },
          "metadata": {
            "tags": []
          },
          "execution_count": 8
        }
      ]
    },
    {
      "cell_type": "code",
      "metadata": {
        "id": "j1UikQN8_Nqd",
        "colab_type": "code",
        "colab": {
          "base_uri": "https://localhost:8080/",
          "height": 35
        },
        "outputId": "0a786232-7cdf-44e0-f611-7abe17fbc1f2"
      },
      "source": [
        "y = [10, 20, 30]  # Create a list.\n",
        "y\n",
        "y[0]  # Python uses zero-based indexing! returns 10"
      ],
      "execution_count": 5,
      "outputs": [
        {
          "output_type": "execute_result",
          "data": {
            "text/plain": [
              "[10, 20, 30]"
            ]
          },
          "metadata": {
            "tags": []
          },
          "execution_count": 5
        },
        {
          "output_type": "execute_result",
          "data": {
            "text/plain": [
              "10"
            ]
          },
          "metadata": {
            "tags": []
          },
          "execution_count": 5
        }
      ]
    },
    {
      "cell_type": "code",
      "metadata": {
        "id": "JJSEgetCAKhz",
        "colab_type": "code",
        "colab": {}
      },
      "source": [
        "Y = [\"hi\",3]  "
      ],
      "execution_count": 0,
      "outputs": []
    },
    {
      "cell_type": "code",
      "metadata": {
        "id": "wuIuL2g-_Nq2",
        "colab_type": "code",
        "colab": {
          "base_uri": "https://localhost:8080/",
          "height": 35
        },
        "outputId": "c13c1dfb-51c2-4396-d8e5-c5094ba3d9bf"
      },
      "source": [
        "x2.append('hi')  # Lists can have different data types in them\n",
        "x2"
      ],
      "execution_count": 9,
      "outputs": [
        {
          "output_type": "execute_result",
          "data": {
            "text/plain": [
              "[4, 5, 6, 'hi']"
            ]
          },
          "metadata": {
            "tags": []
          },
          "execution_count": 9
        }
      ]
    },
    {
      "cell_type": "code",
      "metadata": {
        "id": "vE-4K_3P_NrI",
        "colab_type": "code",
        "colab": {
          "base_uri": "https://localhost:8080/",
          "height": 35
        },
        "outputId": "18d295f8-822b-4f2c-8de0-1d3c55ffbdd4"
      },
      "source": [
        "my_dict = {'a': 10, 'b': 'hi', 'c': [1,2,3]}  # Create a \"dictionary\"\n",
        "my_dict['c']  # Access the \"value\" corresponding to the \"key\" 'c' in the dictionary I created "
      ],
      "execution_count": 10,
      "outputs": [
        {
          "output_type": "execute_result",
          "data": {
            "text/plain": [
              "[1, 2, 3]"
            ]
          },
          "metadata": {
            "tags": []
          },
          "execution_count": 10
        }
      ]
    },
    {
      "cell_type": "code",
      "metadata": {
        "id": "9kwgPwi0_NrX",
        "colab_type": "code",
        "colab": {
          "base_uri": "https://localhost:8080/",
          "height": 35
        },
        "outputId": "7facdb40-bfca-49ec-f1a4-efad6f38b423"
      },
      "source": [
        "range(0, 10, 2)  # Range creates a sequence of integers starting at the first entry and ending BEFORE the \n",
        "                 # second entry. The third entry is the step size. The range() function is really useful when\n",
        "                 # creating for loops.\n",
        "list(range(0, 10, 2))  # Convert to a list for printing purposes"
      ],
      "execution_count": 12,
      "outputs": [
        {
          "output_type": "execute_result",
          "data": {
            "text/plain": [
              "range(0, 10, 2)"
            ]
          },
          "metadata": {
            "tags": []
          },
          "execution_count": 12
        },
        {
          "output_type": "execute_result",
          "data": {
            "text/plain": [
              "[0, 2, 4, 6, 8]"
            ]
          },
          "metadata": {
            "tags": []
          },
          "execution_count": 12
        }
      ]
    },
    {
      "cell_type": "markdown",
      "metadata": {
        "id": "SwnzofZx_Nrn",
        "colab_type": "text"
      },
      "source": [
        "Next we'll introduce `for` loops, `while` loops, and functions. At this point it's important to know that in Python it is necessary to follow indentation rules."
      ]
    },
    {
      "cell_type": "code",
      "metadata": {
        "id": "nRh27ogh_Nro",
        "colab_type": "code",
        "colab": {
          "base_uri": "https://localhost:8080/",
          "height": 139
        },
        "outputId": "89805533-1b56-4900-9c97-ac9950f4a59f"
      },
      "source": [
        "for i in range(-2, 5):  # Note (1) there are no parentheses required around the interior of the for statement; \n",
        "    print(abs(i))       # and (2) there is a colon at the end."
      ],
      "execution_count": 13,
      "outputs": [
        {
          "output_type": "stream",
          "text": [
            "2\n",
            "1\n",
            "0\n",
            "1\n",
            "2\n",
            "3\n",
            "4\n"
          ],
          "name": "stdout"
        }
      ]
    },
    {
      "cell_type": "code",
      "metadata": {
        "id": "d7hHabFi_Nru",
        "colab_type": "code",
        "colab": {
          "base_uri": "https://localhost:8080/",
          "height": 52
        },
        "outputId": "864ff985-2ae7-4b66-eb18-80ff95499b70"
      },
      "source": [
        "i = 0\n",
        "j = 2\n",
        "while i < 5 and not j >= 4:  # To check multiple conditions, use \"and\", \"or\", and/or \"not\"\n",
        "    i += 1  # This is short for i = i+1\n",
        "    j = j+1\n",
        "    print(i, j)"
      ],
      "execution_count": 14,
      "outputs": [
        {
          "output_type": "stream",
          "text": [
            "1 3\n",
            "2 4\n"
          ],
          "name": "stdout"
        }
      ]
    },
    {
      "cell_type": "code",
      "metadata": {
        "id": "wHY8-1h1_Nrz",
        "colab_type": "code",
        "colab": {
          "base_uri": "https://localhost:8080/",
          "height": 52
        },
        "outputId": "e4dd0bd9-f977-426b-9b72-f79e3df77dfb"
      },
      "source": [
        "def hello_world(my_string, freq):  # Define the function called hello_world with input arguments my_string and freq\n",
        "    print(my_string*freq)  # String multiplication concatenates replicated strings\n",
        "    return 3*freq, 2*my_string\n",
        "    \n",
        "hello_world('Hello, world!', 3) # Call the function hello_world\n",
        "\n",
        "'hello'+'world'  # String addition concatenates strings"
      ],
      "execution_count": 16,
      "outputs": [
        {
          "output_type": "stream",
          "text": [
            "Hello, world!Hello, world!Hello, world!\n"
          ],
          "name": "stdout"
        },
        {
          "output_type": "execute_result",
          "data": {
            "text/plain": [
              "(9, 'Hello, world!Hello, world!')"
            ]
          },
          "metadata": {
            "tags": []
          },
          "execution_count": 16
        },
        {
          "output_type": "execute_result",
          "data": {
            "text/plain": [
              "'helloworld'"
            ]
          },
          "metadata": {
            "tags": []
          },
          "execution_count": 16
        }
      ]
    },
    {
      "cell_type": "markdown",
      "metadata": {
        "id": "QtIPtxjz_NsD",
        "colab_type": "text"
      },
      "source": [
        "## 2.2 Importing packages\n",
        "You can import a package a number of different ways in Python:"
      ]
    },
    {
      "cell_type": "code",
      "metadata": {
        "id": "JU4Sdo7f_NsK",
        "colab_type": "code",
        "colab": {
          "base_uri": "https://localhost:8080/",
          "height": 35
        },
        "outputId": "2eece390-c2b8-4e7d-852d-bbc601f140c5"
      },
      "source": [
        "import numpy  # Import NumPy. You will refer to it as numpy later.\n",
        "numpy.zeros(3)  # Create a numpy array with three zeros"
      ],
      "execution_count": 17,
      "outputs": [
        {
          "output_type": "execute_result",
          "data": {
            "text/plain": [
              "array([0., 0., 0.])"
            ]
          },
          "metadata": {
            "tags": []
          },
          "execution_count": 17
        }
      ]
    },
    {
      "cell_type": "code",
      "metadata": {
        "id": "j5seLQKYBfWv",
        "colab_type": "code",
        "colab": {
          "base_uri": "https://localhost:8080/",
          "height": 35
        },
        "outputId": "c23ef252-f03c-496d-c067-abe92a13ccc2"
      },
      "source": [
        "!pip3 install numpy"
      ],
      "execution_count": 18,
      "outputs": [
        {
          "output_type": "stream",
          "text": [
            "Requirement already satisfied: numpy in /usr/local/lib/python3.6/dist-packages (1.18.2)\n"
          ],
          "name": "stdout"
        }
      ]
    },
    {
      "cell_type": "code",
      "metadata": {
        "id": "chYttIiA_Nsi",
        "colab_type": "code",
        "colab": {
          "base_uri": "https://localhost:8080/",
          "height": 35
        },
        "outputId": "cdc66723-140c-4c61-e7ce-5d08bda14654"
      },
      "source": [
        "import numpy as np  # Import numpy and refer to it as np later\n",
        "np.zeros(3)"
      ],
      "execution_count": 19,
      "outputs": [
        {
          "output_type": "execute_result",
          "data": {
            "text/plain": [
              "array([0., 0., 0.])"
            ]
          },
          "metadata": {
            "tags": []
          },
          "execution_count": 19
        }
      ]
    },
    {
      "cell_type": "code",
      "metadata": {
        "id": "kro40_cG_Ns0",
        "colab_type": "code",
        "colab": {
          "base_uri": "https://localhost:8080/",
          "height": 35
        },
        "outputId": "afcacf1b-79f9-4874-979a-19b946988151"
      },
      "source": [
        "from numpy import *  # Import every function from numpy. You won't need to use the name numpy later \n",
        "                     # when referring to the functions\n",
        "                     # not recommended\n",
        "zeros(3)"
      ],
      "execution_count": 20,
      "outputs": [
        {
          "output_type": "execute_result",
          "data": {
            "text/plain": [
              "array([0., 0., 0.])"
            ]
          },
          "metadata": {
            "tags": []
          },
          "execution_count": 20
        }
      ]
    },
    {
      "cell_type": "code",
      "metadata": {
        "id": "yB_tZwY5_Ns7",
        "colab_type": "code",
        "colab": {
          "base_uri": "https://localhost:8080/",
          "height": 35
        },
        "outputId": "6f73b456-20d8-4232-d4ba-bb7f000a52e4"
      },
      "source": [
        "from numpy import zeros  # Import only the zeros function\n",
        "zeros(3)"
      ],
      "execution_count": 21,
      "outputs": [
        {
          "output_type": "execute_result",
          "data": {
            "text/plain": [
              "array([0., 0., 0.])"
            ]
          },
          "metadata": {
            "tags": []
          },
          "execution_count": 21
        }
      ]
    },
    {
      "cell_type": "code",
      "metadata": {
        "id": "i2dKoq8C_NtE",
        "colab_type": "code",
        "colab": {
          "base_uri": "https://localhost:8080/",
          "height": 35
        },
        "outputId": "0a810e61-f071-4c00-882c-0a1420398d76"
      },
      "source": [
        "from numpy import random  # Import the module \"random\" that exists within the package \"numpy\"\n",
        "random.rand(3)  # Generate three random numbers from Unif(0, 1)"
      ],
      "execution_count": 22,
      "outputs": [
        {
          "output_type": "execute_result",
          "data": {
            "text/plain": [
              "array([0.28373888, 0.5812161 , 0.97125105])"
            ]
          },
          "metadata": {
            "tags": []
          },
          "execution_count": 22
        }
      ]
    },
    {
      "cell_type": "code",
      "metadata": {
        "id": "TMjuLVLH_NtK",
        "colab_type": "code",
        "colab": {
          "base_uri": "https://localhost:8080/",
          "height": 35
        },
        "outputId": "e86f6f2b-6d55-4054-b9c0-bff578d1e53e"
      },
      "source": [
        "import numpy.random\n",
        "numpy.random.rand(3)"
      ],
      "execution_count": 26,
      "outputs": [
        {
          "output_type": "execute_result",
          "data": {
            "text/plain": [
              "array([0.37545821, 0.64866471, 0.55667069])"
            ]
          },
          "metadata": {
            "tags": []
          },
          "execution_count": 26
        }
      ]
    },
    {
      "cell_type": "code",
      "metadata": {
        "id": "GQ9FJ-7kCQAO",
        "colab_type": "code",
        "colab": {
          "base_uri": "https://localhost:8080/",
          "height": 305
        },
        "outputId": "0d6e7098-3368-47de-b9e3-093ab7def298"
      },
      "source": [
        ""
      ],
      "execution_count": 25,
      "outputs": [
        {
          "output_type": "error",
          "ename": "ImportError",
          "evalue": "ignored",
          "traceback": [
            "\u001b[0;31m---------------------------------------------------------------------------\u001b[0m",
            "\u001b[0;31mImportError\u001b[0m                               Traceback (most recent call last)",
            "\u001b[0;32m<ipython-input-25-4a1776faf59d>\u001b[0m in \u001b[0;36m<module>\u001b[0;34m()\u001b[0m\n\u001b[0;32m----> 1\u001b[0;31m \u001b[0;32mfrom\u001b[0m \u001b[0mnumpy\u001b[0m \u001b[0;32mimport\u001b[0m \u001b[0mnp\u001b[0m\u001b[0;34m\u001b[0m\u001b[0;34m\u001b[0m\u001b[0m\n\u001b[0m",
            "\u001b[0;31mImportError\u001b[0m: cannot import name 'np'",
            "",
            "\u001b[0;31m---------------------------------------------------------------------------\u001b[0;32m\nNOTE: If your import is failing due to a missing package, you can\nmanually install dependencies using either !pip or !apt.\n\nTo view examples of installing some common dependencies, click the\n\"Open Examples\" button below.\n\u001b[0;31m---------------------------------------------------------------------------\u001b[0m\n"
          ]
        }
      ]
    },
    {
      "cell_type": "markdown",
      "metadata": {
        "id": "WUQ1P8Ga_NuL",
        "colab_type": "text"
      },
      "source": [
        "I do not recommend frequently using the third and fourth methods. With these methods it's not easy to tell from looking at the code where the functions you call come from. Moreover, there could be name clashes between packages. "
      ]
    },
    {
      "cell_type": "markdown",
      "metadata": {
        "id": "VrngLyrF_NuZ",
        "colab_type": "text"
      },
      "source": [
        "## 2.3 NumPy"
      ]
    },
    {
      "cell_type": "markdown",
      "metadata": {
        "id": "3Nex71Fr_Nub",
        "colab_type": "text"
      },
      "source": [
        "The NumPy package allows you to create arrays, generate random numbers, and perform quite a few arithmetic operations."
      ]
    },
    {
      "cell_type": "code",
      "metadata": {
        "id": "419SVxnE_Nuk",
        "colab_type": "code",
        "colab": {
          "base_uri": "https://localhost:8080/",
          "height": 87
        },
        "outputId": "a7563711-d7be-4e89-cb2e-4b226254e9e0"
      },
      "source": [
        "import numpy as np\n",
        "x = np.array([[1, 2, 3], [4, 5, 6]])  # Create a 2-dimensional array\n",
        "print(\"x:\\n{}\".format(x))  # Print it to the screen. \\n says to go to the next line\n",
        "                           # {} and .format() are used to print objects to the screen\n",
        "                           # in Python 3.\n",
        "print(\"x[1,2] =\", x[1,2])   # Alternative way of printing to the screen. Is this the entry of x you expected?"
      ],
      "execution_count": 27,
      "outputs": [
        {
          "output_type": "stream",
          "text": [
            "x:\n",
            "[[1 2 3]\n",
            " [4 5 6]]\n",
            "x[1,2] = 6\n"
          ],
          "name": "stdout"
        }
      ]
    },
    {
      "cell_type": "markdown",
      "metadata": {
        "id": "v75mNjDQ_Nuu",
        "colab_type": "text"
      },
      "source": [
        "To generate random numbers from a normal distribution we can use the np.random.normal() function. The first argument is the location (mean), the second argument is the scale (standard deviation), and the third argument tells it how many random numbers we want and in what format. size=(2,3) says that we want a 2x3 array as the output. You can also generate random numbers from many other distributions (see the documentation)."
      ]
    },
    {
      "cell_type": "code",
      "metadata": {
        "id": "B2l9aOL8_Nuv",
        "colab_type": "code",
        "colab": {
          "base_uri": "https://localhost:8080/",
          "height": 173
        },
        "outputId": "0d0edbf6-2bbb-4a0b-f8cd-4dda6f8a0e37"
      },
      "source": [
        "np.random.seed(0)  # Set the seed for reproducibility\n",
        "my_sample = np.random.normal(loc=1, scale=2, size=(2, 3))\n",
        "print('\\n')\n",
        "x\n",
        "print('\\n')\n",
        "x+my_sample  # Add two arrays\n",
        "print('\\n')\n",
        "np.sum(x)  # Add all of the entries in x"
      ],
      "execution_count": 29,
      "outputs": [
        {
          "output_type": "stream",
          "text": [
            "\n",
            "\n"
          ],
          "name": "stdout"
        },
        {
          "output_type": "execute_result",
          "data": {
            "text/plain": [
              "array([[1, 2, 3],\n",
              "       [4, 5, 6]])"
            ]
          },
          "metadata": {
            "tags": []
          },
          "execution_count": 29
        },
        {
          "output_type": "stream",
          "text": [
            "\n",
            "\n"
          ],
          "name": "stdout"
        },
        {
          "output_type": "execute_result",
          "data": {
            "text/plain": [
              "array([[5.52810469, 3.80031442, 5.95747597],\n",
              "       [9.4817864 , 9.73511598, 5.04544424]])"
            ]
          },
          "metadata": {
            "tags": []
          },
          "execution_count": 29
        },
        {
          "output_type": "stream",
          "text": [
            "\n",
            "\n"
          ],
          "name": "stdout"
        },
        {
          "output_type": "execute_result",
          "data": {
            "text/plain": [
              "21"
            ]
          },
          "metadata": {
            "tags": []
          },
          "execution_count": 29
        }
      ]
    },
    {
      "cell_type": "code",
      "metadata": {
        "id": "xdMa_zj2DihS",
        "colab_type": "code",
        "colab": {}
      },
      "source": [
        "help(np.random.normal)"
      ],
      "execution_count": 0,
      "outputs": []
    },
    {
      "cell_type": "code",
      "metadata": {
        "id": "aeOIpdKt_Nu9",
        "colab_type": "code",
        "colab": {
          "base_uri": "https://localhost:8080/",
          "height": 52
        },
        "outputId": "3992f900-9478-421d-e77e-fc60814100de"
      },
      "source": [
        "np.sqrt(x)  # Take the square root of x element-wise"
      ],
      "execution_count": 34,
      "outputs": [
        {
          "output_type": "execute_result",
          "data": {
            "text/plain": [
              "array([[1.        , 1.41421356, 1.73205081],\n",
              "       [2.        , 2.23606798, 2.44948974]])"
            ]
          },
          "metadata": {
            "tags": []
          },
          "execution_count": 34
        }
      ]
    },
    {
      "cell_type": "code",
      "metadata": {
        "id": "HL6AZk9Z_NvT",
        "colab_type": "code",
        "colab": {
          "base_uri": "https://localhost:8080/",
          "height": 52
        },
        "outputId": "a80b0108-900a-4ca9-c6b1-a07db20642b6"
      },
      "source": [
        "x ** 2  # Square the entries in x element-wise "
      ],
      "execution_count": 35,
      "outputs": [
        {
          "output_type": "execute_result",
          "data": {
            "text/plain": [
              "array([[ 1,  4,  9],\n",
              "       [16, 25, 36]])"
            ]
          },
          "metadata": {
            "tags": []
          },
          "execution_count": 35
        }
      ]
    },
    {
      "cell_type": "code",
      "metadata": {
        "id": "WG6ivn5c_Nwj",
        "colab_type": "code",
        "colab": {
          "base_uri": "https://localhost:8080/",
          "height": 52
        },
        "outputId": "e466b7a9-a434-4781-c762-0366f058484a"
      },
      "source": [
        "x*x  # Element-wise multiplication of individual elements in x"
      ],
      "execution_count": 36,
      "outputs": [
        {
          "output_type": "execute_result",
          "data": {
            "text/plain": [
              "array([[ 1,  4,  9],\n",
              "       [16, 25, 36]])"
            ]
          },
          "metadata": {
            "tags": []
          },
          "execution_count": 36
        }
      ]
    },
    {
      "cell_type": "code",
      "metadata": {
        "id": "MyIwRZqc_Nw6",
        "colab_type": "code",
        "colab": {
          "base_uri": "https://localhost:8080/",
          "height": 225
        },
        "outputId": "ba10d579-2a63-4e01-9fa8-07e34d2d88b1"
      },
      "source": [
        "y = x.T  # Transpose of x\n",
        "print('y=', y)\n",
        "print('\\n')\n",
        "print('Dimensions of y:', y.shape)  # Dimensions of y\n",
        "print('\\n')\n",
        "print('Number of rows in y:', y.shape[0])  # Number of rows\n",
        "print('\\n')\n",
        "print('Number of rows in y:', np.size(y, 0))  # Another way to get the number of rows"
      ],
      "execution_count": 41,
      "outputs": [
        {
          "output_type": "stream",
          "text": [
            "y= [[1 4]\n",
            " [2 5]\n",
            " [3 6]]\n",
            "\n",
            "\n",
            "Dimensions of y: (3, 2)\n",
            "\n",
            "\n",
            "Number of rows in y: 3\n",
            "\n",
            "\n",
            "Number of rows in y: 3\n"
          ],
          "name": "stdout"
        }
      ]
    },
    {
      "cell_type": "code",
      "metadata": {
        "id": "81ShAnBHEfOi",
        "colab_type": "code",
        "colab": {
          "base_uri": "https://localhost:8080/",
          "height": 69
        },
        "outputId": "102dc045-c260-45ed-ea7f-a0265c39a841"
      },
      "source": [
        "print('\\n')\n",
        "print('Number of cols in y:', np.size(y, 1))  # Another way to get the number of cols"
      ],
      "execution_count": 42,
      "outputs": [
        {
          "output_type": "stream",
          "text": [
            "\n",
            "\n",
            "Number of cols in y: 2\n"
          ],
          "name": "stdout"
        }
      ]
    },
    {
      "cell_type": "code",
      "metadata": {
        "scrolled": true,
        "id": "hzvslM7m_Nxw",
        "colab_type": "code",
        "colab": {
          "base_uri": "https://localhost:8080/",
          "height": 329
        },
        "outputId": "694ef5d5-923a-4ff0-dd4c-d1c1e448e7c0"
      },
      "source": [
        "y\n",
        "print('\\n')\n",
        "x\n",
        "print('\\n')\n",
        "y @ x  # Matrix multiplication (python 3 only)\n",
        "print('\\n')\n",
        "y.dot(x) # Another way to perform matrix multiplication\n",
        "print('\\n')\n",
        "np.dot(y, x)  # Does the same thing"
      ],
      "execution_count": 45,
      "outputs": [
        {
          "output_type": "execute_result",
          "data": {
            "text/plain": [
              "array([[1, 4],\n",
              "       [2, 5],\n",
              "       [3, 6]])"
            ]
          },
          "metadata": {
            "tags": []
          },
          "execution_count": 45
        },
        {
          "output_type": "stream",
          "text": [
            "\n",
            "\n"
          ],
          "name": "stdout"
        },
        {
          "output_type": "execute_result",
          "data": {
            "text/plain": [
              "array([[1, 2, 3],\n",
              "       [4, 5, 6]])"
            ]
          },
          "metadata": {
            "tags": []
          },
          "execution_count": 45
        },
        {
          "output_type": "stream",
          "text": [
            "\n",
            "\n"
          ],
          "name": "stdout"
        },
        {
          "output_type": "execute_result",
          "data": {
            "text/plain": [
              "array([[17, 22, 27],\n",
              "       [22, 29, 36],\n",
              "       [27, 36, 45]])"
            ]
          },
          "metadata": {
            "tags": []
          },
          "execution_count": 45
        },
        {
          "output_type": "stream",
          "text": [
            "\n",
            "\n"
          ],
          "name": "stdout"
        },
        {
          "output_type": "execute_result",
          "data": {
            "text/plain": [
              "array([[17, 22, 27],\n",
              "       [22, 29, 36],\n",
              "       [27, 36, 45]])"
            ]
          },
          "metadata": {
            "tags": []
          },
          "execution_count": 45
        },
        {
          "output_type": "stream",
          "text": [
            "\n",
            "\n"
          ],
          "name": "stdout"
        },
        {
          "output_type": "execute_result",
          "data": {
            "text/plain": [
              "array([[17, 22, 27],\n",
              "       [22, 29, 36],\n",
              "       [27, 36, 45]])"
            ]
          },
          "metadata": {
            "tags": []
          },
          "execution_count": 45
        }
      ]
    },
    {
      "cell_type": "code",
      "metadata": {
        "id": "Zcapaf79_Nx8",
        "colab_type": "code",
        "colab": {
          "base_uri": "https://localhost:8080/",
          "height": 35
        },
        "outputId": "fc808fc5-2a84-473c-f87f-d03744af5b6e"
      },
      "source": [
        "y[1:2, :]  # Get the second row of the matrix y and every column"
      ],
      "execution_count": 44,
      "outputs": [
        {
          "output_type": "execute_result",
          "data": {
            "text/plain": [
              "array([[2, 5]])"
            ]
          },
          "metadata": {
            "tags": []
          },
          "execution_count": 44
        }
      ]
    },
    {
      "cell_type": "markdown",
      "metadata": {
        "id": "eBwsK_yW_NyB",
        "colab_type": "text"
      },
      "source": [
        "NumPy has quite a few linear algebra routines. "
      ]
    },
    {
      "cell_type": "code",
      "metadata": {
        "id": "Dvj42FTq_NyG",
        "colab_type": "code",
        "colab": {
          "base_uri": "https://localhost:8080/",
          "height": 52
        },
        "outputId": "98c46687-dfe3-4748-cda7-ee361e5e243b"
      },
      "source": [
        "z = np.dot(x, x.T)\n",
        "np.linalg.inv(z)  # Inverse of z"
      ],
      "execution_count": 54,
      "outputs": [
        {
          "output_type": "execute_result",
          "data": {
            "text/plain": [
              "array([[ 1.42592593, -0.59259259],\n",
              "       [-0.59259259,  0.25925926]])"
            ]
          },
          "metadata": {
            "tags": []
          },
          "execution_count": 54
        }
      ]
    },
    {
      "cell_type": "code",
      "metadata": {
        "id": "kbNjB-mq_NyS",
        "colab_type": "code",
        "colab": {
          "base_uri": "https://localhost:8080/",
          "height": 52
        },
        "outputId": "ec85e7fe-8ea2-4a56-f6cf-97af26b70f2e"
      },
      "source": [
        "np.linalg.eig(z)[0]  # Eigenvalues of z\n",
        "np.linalg.eig(z)[1]  # Corresponding eigenvectors of z"
      ],
      "execution_count": 55,
      "outputs": [
        {
          "output_type": "execute_result",
          "data": {
            "text/plain": [
              "array([ 0.59732747, 90.40267253])"
            ]
          },
          "metadata": {
            "tags": []
          },
          "execution_count": 55
        },
        {
          "output_type": "execute_result",
          "data": {
            "text/plain": [
              "array([[-0.92236578, -0.3863177 ],\n",
              "       [ 0.3863177 , -0.92236578]])"
            ]
          },
          "metadata": {
            "tags": []
          },
          "execution_count": 55
        }
      ]
    },
    {
      "cell_type": "markdown",
      "metadata": {
        "id": "Q3I3cKx3_Nyp",
        "colab_type": "text"
      },
      "source": [
        "Throughout the labs I will try to include exercises for you, like the ones below. These are not graded, but should aid in your understanding and possibly help you directly or indirectly with the homework.\n",
        "\n",
        "**Exercise 1.** Consider the vector $x = (1, 3, 5, 7, 9)$. Using Python, compute the square root of the sum of\n",
        "the squares of its elements, i.e., $\\sqrt{1^2 + 3^2 + 5^2 + 7^2 + 9^2}$."
      ]
    },
    {
      "cell_type": "code",
      "metadata": {
        "id": "zcEzstKI_Nyq",
        "colab_type": "code",
        "colab": {
          "base_uri": "https://localhost:8080/",
          "height": 35
        },
        "outputId": "eee7a35a-b239-4f4a-cb2c-0a04795fcd1b"
      },
      "source": [
        "x=np.array([1,3,5,7,9])\n",
        "np.sqrt(sum(x**2))"
      ],
      "execution_count": 57,
      "outputs": [
        {
          "output_type": "execute_result",
          "data": {
            "text/plain": [
              "12.84523257866513"
            ]
          },
          "metadata": {
            "tags": []
          },
          "execution_count": 57
        }
      ]
    },
    {
      "cell_type": "markdown",
      "metadata": {
        "id": "qoGRjPPE_Ny2",
        "colab_type": "text"
      },
      "source": [
        " **Exercise 2.** Generate data using the following code:\n",
        "~~~\n",
        "np.random.seed(0)\n",
        "A = np.random.uniform(size=(4,4))\n",
        "A = A/np.linalg.norm(A, 1, axis=0)\n",
        "~~~\n",
        "Let $A_{i, j}$ denote the element in the $i^{th}$ row and $j^{th}$ column of $A$ (using 1-based indexing). Compute the following quantity without using a `for` loop:\n",
        "$$ \\frac{1}{2}\\sum_{j=1}^4 |A_{2,j}-A_{4,j}| $$"
      ]
    },
    {
      "cell_type": "code",
      "metadata": {
        "id": "XuaK-OFGHZQL",
        "colab_type": "code",
        "colab": {}
      },
      "source": [
        ""
      ],
      "execution_count": 0,
      "outputs": []
    },
    {
      "cell_type": "markdown",
      "metadata": {
        "id": "VtSD4-mI_NzH",
        "colab_type": "text"
      },
      "source": [
        "## 2.4 A word of caution\n",
        "Sometimes Python does things you may not expect. The code below can be unexpected and if you end up with a bug related to it, it can be very difficult to find!"
      ]
    },
    {
      "cell_type": "code",
      "metadata": {
        "id": "LYHnVDvB_NzL",
        "colab_type": "code",
        "colab": {}
      },
      "source": [
        "A = np.ones((2, 2))  # Create a matrix of ones\n",
        "A"
      ],
      "execution_count": 0,
      "outputs": []
    },
    {
      "cell_type": "code",
      "metadata": {
        "id": "vVb8Qpyt_Nzb",
        "colab_type": "code",
        "colab": {}
      },
      "source": [
        "B = A\n",
        "B"
      ],
      "execution_count": 0,
      "outputs": []
    },
    {
      "cell_type": "code",
      "metadata": {
        "id": "ponPoCDy_Nz3",
        "colab_type": "code",
        "colab": {}
      },
      "source": [
        "B[0, 1] = 2  # Change one entry in B\n",
        "B \n",
        "A  # This also changed the same entry in A!"
      ],
      "execution_count": 0,
      "outputs": []
    },
    {
      "cell_type": "markdown",
      "metadata": {
        "id": "qvv0okzg_N0S",
        "colab_type": "text"
      },
      "source": [
        "Why did that happen? When you set B to A, you are copying a memory address, not creating a new copy of A. You should keep this in mind! To avoid this problem, you can use the copy method or the copy package:"
      ]
    },
    {
      "cell_type": "code",
      "metadata": {
        "id": "9-JAKW1p_N0U",
        "colab_type": "code",
        "colab": {}
      },
      "source": [
        "import copy\n",
        "A = np.ones((2, 2))  \n",
        "B = A.copy()  # Copy A instead of its memory address\n",
        "B[0, 1] = 2\n",
        "B\n",
        "A"
      ],
      "execution_count": 0,
      "outputs": []
    },
    {
      "cell_type": "markdown",
      "metadata": {
        "id": "5TUDC3ir_N0m",
        "colab_type": "text"
      },
      "source": [
        "**Exercise 3**: Find the bugs in the following lines of code:\n",
        "1. \n",
        "~~~\n",
        "5**1/2  # Compute the square root of 5\n",
        "~~~\n",
        "2. ~~~\n",
        "range(1, 5)  # Create a list of numbers between 1 and 5, inclusive\n",
        "~~~\n",
        "3. ~~~\n",
        "from numpy import sqrt\n",
        "a = 4\n",
        "sqrt = 2\n",
        "b = 5\n",
        "sqrt_b = sqrt(5)  # Compute the square root of 5\n",
        "~~~\n",
        "4. ~~~\n",
        "for i in range(5, 0):  # Loop over the values from 5 down to 0 (inclusive)\n",
        "        print(i)\n",
        "~~~"
      ]
    },
    {
      "cell_type": "markdown",
      "metadata": {
        "id": "T59D0GqF_N0o",
        "colab_type": "text"
      },
      "source": [
        "While you may think some of these bugs are contrived, you will likely encounter at least one of them in some (possibly more complicated) form in the future. "
      ]
    },
    {
      "cell_type": "markdown",
      "metadata": {
        "id": "Z0-jWkLh_N0p",
        "colab_type": "text"
      },
      "source": [
        "## 2.5 Plotting\n",
        "Matplotlib is the main plotting package in Python."
      ]
    },
    {
      "cell_type": "code",
      "metadata": {
        "id": "ikjXQPt4_N0q",
        "colab_type": "code",
        "colab": {}
      },
      "source": [
        "# The line below says to display the graphs inside this notebook\n",
        "%matplotlib inline  \n",
        "import matplotlib.pyplot as plt  # Import the matplotlib plotting library\n",
        "\n",
        "# Generate a sequence of numbers from -10 to 10 with 100 steps in between\n",
        "x = np.linspace(-10, 10, 100)\n",
        "# Create a second array using sine\n",
        "y = np.sin(x)\n",
        "# The plot function plots the first argument on the x-axis, the second argument on the y-axis and \n",
        "# connects the points.\n",
        "plt.plot(x, y, marker=\"x\")\n",
        "plt.xlabel('x label')  # Add a label to the x-axis\n",
        "plt.ylabel('y label')  # Add a label to the y-axis\n",
        "plt.title('My Title')  # Add a plot title"
      ],
      "execution_count": 0,
      "outputs": []
    },
    {
      "cell_type": "code",
      "metadata": {
        "id": "_ECBznRW_N03",
        "colab_type": "code",
        "colab": {}
      },
      "source": [
        "plt.scatter(x, y)  # Scatter doesn't connect the points"
      ],
      "execution_count": 0,
      "outputs": []
    },
    {
      "cell_type": "markdown",
      "metadata": {
        "id": "veQO6Gfk_N0-",
        "colab_type": "text"
      },
      "source": [
        "# 3 Reading and manipulating data"
      ]
    },
    {
      "cell_type": "markdown",
      "metadata": {
        "id": "ajVsuuD4_N0_",
        "colab_type": "text"
      },
      "source": [
        "The library Pandas is quite popular for reading in datasets and manipulating them. Below are a few things you can do with it."
      ]
    },
    {
      "cell_type": "code",
      "metadata": {
        "id": "chjhKCbs_N1B",
        "colab_type": "code",
        "colab": {}
      },
      "source": [
        "import pandas as pd\n",
        "\n",
        "# Create a simple dataset of people\n",
        "data = {'Name': [\"John\", \"Anna\", \"Peter\", \"Linda\"],\n",
        "        'Location' : [\"New York\", \"Paris\", \"Berlin\", \"London\"],\n",
        "        'Age' : [24, 13, 53, 33]\n",
        "       }\n",
        "\n",
        "data_pandas = pd.DataFrame(data)  # Turn the dictionary into a data frame\n",
        "# IPython.display allows \"pretty printing\" of dataframes in the Jupyter notebook\n",
        "from IPython.core.display import display\n",
        "display(data_pandas)"
      ],
      "execution_count": 0,
      "outputs": []
    },
    {
      "cell_type": "code",
      "metadata": {
        "id": "OmYYU3d__N1w",
        "colab_type": "code",
        "colab": {}
      },
      "source": [
        "# One of many possible ways to query the table:\n",
        "# selecting all rows that have an age column greater than 30\n",
        "data_pandas[data_pandas.Age > 30]"
      ],
      "execution_count": 0,
      "outputs": []
    },
    {
      "cell_type": "code",
      "metadata": {
        "id": "5Mxc8ZX1_N2i",
        "colab_type": "code",
        "colab": {}
      },
      "source": [
        "np.asarray(data_pandas.Age)  # Get the Age column and convert it to a numpy array"
      ],
      "execution_count": 0,
      "outputs": []
    },
    {
      "cell_type": "markdown",
      "metadata": {
        "id": "93QRdzBV_N26",
        "colab_type": "text"
      },
      "source": [
        "If you had a dataset that you wanted to load, you could use pd.read_table() or pd.read_csv(). For example,"
      ]
    },
    {
      "cell_type": "code",
      "metadata": {
        "id": "9P9IORtD_N29",
        "colab_type": "code",
        "colab": {}
      },
      "source": [
        "# Load a dataset about cars\n",
        "# sep=',' says that the data is comma-delimited\n",
        "# header=0 denotes the fact that the header is the first line of data. If there's no header, use header=None\n",
        "pd.read_csv('http://faculty.marshall.usc.edu/gareth-james/ISL/Auto.csv', sep=',', header=0)"
      ],
      "execution_count": 0,
      "outputs": []
    },
    {
      "cell_type": "markdown",
      "metadata": {
        "id": "-YVIxrGn_N3H",
        "colab_type": "text"
      },
      "source": [
        "# 4 Fitting machine learning models\n",
        "The package scikit-learn is the most popular machine learning package in Python. It allows you to easily fit a wide variety of models. Here we'll show you how to fit nearest neighbors and ridge regression models in scikit-learn and use them to make predictions."
      ]
    },
    {
      "cell_type": "markdown",
      "metadata": {
        "id": "Xr_8Uc2o_N3L",
        "colab_type": "text"
      },
      "source": [
        "## 4.1 Loading data from scikit-learn\n",
        "First we'll take a look at the iris dataset in scikit-learn. Suppose that we are interested in identifying the species of some Iris plants we found. We have information on the irises' petal and sepal widths and lengths. Moreover, we have the same information from a botanist on a bunch of already identified Iris plants that were labeled as being one of the species *setosa*, *versicolor*, or *virginica*. We will fit a machine learning model to the data with the known species type in order to classify our new plants.\n",
        "\n",
        "First, let's load the dataset and see what it contains."
      ]
    },
    {
      "cell_type": "code",
      "metadata": {
        "id": "LnmEWhwG_N3N",
        "colab_type": "code",
        "colab": {}
      },
      "source": [
        "from sklearn.datasets import load_iris\n",
        "iris_dataset = load_iris()  # Load the iris dataset from scikit-learn"
      ],
      "execution_count": 0,
      "outputs": []
    },
    {
      "cell_type": "markdown",
      "metadata": {
        "id": "O635VgFw_N3o",
        "colab_type": "text"
      },
      "source": [
        "The scikit-learn datasets are objects that are similar to dictionaries, in that they have keys and values. In this case, the object contains the following keys and corresponding values:\n",
        "- data: A numpy array with the measurements of the Iris plants (the predictors)\n",
        "- target: A numpy array with the type of flower for each plant (the response)\n",
        "- target_names: A list of strings, containing the three possible species of flowers \n",
        "- DESCR: A short description of the dataset\n",
        "- feature_names: A list of strings, with a description of each feature"
      ]
    },
    {
      "cell_type": "code",
      "metadata": {
        "id": "Ma3M3--L_N3u",
        "colab_type": "code",
        "colab": {}
      },
      "source": [
        "print(\"Keys of iris_dataset: {}\".format(iris_dataset.keys()))"
      ],
      "execution_count": 0,
      "outputs": []
    },
    {
      "cell_type": "code",
      "metadata": {
        "id": "0Jha3fD2_N4B",
        "colab_type": "code",
        "colab": {}
      },
      "source": [
        "print(iris_dataset['DESCR'][:193] + \"\\n...\")  # Get the first part of the dataset description"
      ],
      "execution_count": 0,
      "outputs": []
    },
    {
      "cell_type": "code",
      "metadata": {
        "id": "XunI_8IW_N4G",
        "colab_type": "code",
        "colab": {}
      },
      "source": [
        "print(\"Target names: {}\".format(iris_dataset['target_names']))  # Names of response categories"
      ],
      "execution_count": 0,
      "outputs": []
    },
    {
      "cell_type": "code",
      "metadata": {
        "id": "SCYWLiEw_N4N",
        "colab_type": "code",
        "colab": {}
      },
      "source": [
        "print(\"Feature names: {}\".format(iris_dataset['feature_names']))  # Names of features"
      ],
      "execution_count": 0,
      "outputs": []
    },
    {
      "cell_type": "code",
      "metadata": {
        "id": "NXcUXFUI_N4f",
        "colab_type": "code",
        "colab": {}
      },
      "source": [
        "print(\"Type of data: {}\".format(type(iris_dataset['data'])))  # Data type of features"
      ],
      "execution_count": 0,
      "outputs": []
    },
    {
      "cell_type": "code",
      "metadata": {
        "id": "Yy2bJBqU_N4o",
        "colab_type": "code",
        "colab": {}
      },
      "source": [
        "print(\"Shape of data: {}\".format(iris_dataset['data'].shape))  # 150 samples, each with 4 features"
      ],
      "execution_count": 0,
      "outputs": []
    },
    {
      "cell_type": "code",
      "metadata": {
        "id": "ul0B08U2_N42",
        "colab_type": "code",
        "colab": {}
      },
      "source": [
        "print(\"First five rows of data:\\n{}\".format(iris_dataset['data'][:5, :]))"
      ],
      "execution_count": 0,
      "outputs": []
    },
    {
      "cell_type": "code",
      "metadata": {
        "id": "BXWajSuC_N5-",
        "colab_type": "code",
        "colab": {}
      },
      "source": [
        "print(\"Type of target: {}\".format(type(iris_dataset['target'])))  # Data type of response"
      ],
      "execution_count": 0,
      "outputs": []
    },
    {
      "cell_type": "code",
      "metadata": {
        "id": "qdQaPhWJ_N6M",
        "colab_type": "code",
        "colab": {}
      },
      "source": [
        "print(\"Shape of target: {}\".format(iris_dataset['target'].shape))  # 150 samples (matches the dimensions from above)"
      ],
      "execution_count": 0,
      "outputs": []
    },
    {
      "cell_type": "markdown",
      "metadata": {
        "id": "YDmWRm8z_N6T",
        "colab_type": "text"
      },
      "source": [
        "The target (response) is coded as 0-2, with the numbering in the same order as the species names appear in iris_dataset['target_names']. In other words, 0 corresponds to *setosa*, 1 corresponds to *versicolor*, and 2 corresponds to *virginica*."
      ]
    },
    {
      "cell_type": "code",
      "metadata": {
        "id": "t9fyzXgW_N6Y",
        "colab_type": "code",
        "colab": {}
      },
      "source": [
        "print(\"Target:\\n{}\".format(iris_dataset['target']))"
      ],
      "execution_count": 0,
      "outputs": []
    },
    {
      "cell_type": "markdown",
      "metadata": {
        "id": "2KgvKgLE_N6x",
        "colab_type": "text"
      },
      "source": [
        "## 4.2 Splitting data into training and test sets\n",
        "In order to be able to assess our model's performance we will divide the data into training and test sets. Scikit-learn provides a nice function called `train_test_split()` that will do this for you. It shuffles the data and then randomly divides it into training and test sets. The first two arguments are the features (X) and the response (y). There are a number of additional optional arguments, including `random_state` (the state for the random number generator), and `test_size` (the fraction of samples to go into the test set)."
      ]
    },
    {
      "cell_type": "code",
      "metadata": {
        "id": "RjDuuofU_N6z",
        "colab_type": "code",
        "colab": {}
      },
      "source": [
        "from sklearn.model_selection import train_test_split\n",
        "X_train, X_test, y_train, y_test = train_test_split(\n",
        "    iris_dataset['data'], iris_dataset['target'], random_state=0, test_size=0.25)"
      ],
      "execution_count": 0,
      "outputs": []
    },
    {
      "cell_type": "code",
      "metadata": {
        "id": "FyYkML5L_N6_",
        "colab_type": "code",
        "colab": {}
      },
      "source": [
        "print(\"X_train shape: {}\".format(X_train.shape))  # 112 samples in the training set\n",
        "print(\"y_train shape: {}\".format(y_train.shape))"
      ],
      "execution_count": 0,
      "outputs": []
    },
    {
      "cell_type": "code",
      "metadata": {
        "id": "0xwrB3Rb_N7K",
        "colab_type": "code",
        "colab": {}
      },
      "source": [
        "print(\"X_test shape: {}\".format(X_test.shape))  # 38 samples in the test set\n",
        "print(\"y_test shape: {}\".format(y_test.shape))"
      ],
      "execution_count": 0,
      "outputs": []
    },
    {
      "cell_type": "markdown",
      "metadata": {
        "id": "zURQ2S9A_N7e",
        "colab_type": "text"
      },
      "source": [
        "## 4.3 Examining the data\n",
        "Before running any analysis on your data, the first thing you should do is look at it. Check if there are any errors in the data set and whether there are any outliers. Maybe your problem could be solved without machine learning or you can't answer your problem because you don't have the appropriate data. It's better to find out these things now!"
      ]
    },
    {
      "cell_type": "code",
      "metadata": {
        "id": "7NKquiXO_N7f",
        "colab_type": "code",
        "colab": {}
      },
      "source": [
        "# Create a pandas dataframe from the data in X_train\n",
        "# Label the columns using the strings in iris_dataset.feature_names\n",
        "iris_dataframe = pd.DataFrame(X_train, columns=iris_dataset.feature_names)\n",
        "# Create a scatter matrix from the dataframe and color by y_train\n",
        "# s is the marker size and alpha is the transparency\n",
        "grr = pd.plotting.scatter_matrix(iris_dataframe, c=y_train, figsize=(15, 15), marker='o',\n",
        "                        hist_kwds={'bins': 20}, s=60, alpha=.8)  "
      ],
      "execution_count": 0,
      "outputs": []
    },
    {
      "cell_type": "markdown",
      "metadata": {
        "id": "0GPFIeES_N8J",
        "colab_type": "text"
      },
      "source": [
        "From the scatterplots we can see that the three types of Iris seem to be well-separated in terms of their sepal and petal lengths and widths. Thus, a machine learning algorithm should be able to predict the species well."
      ]
    },
    {
      "cell_type": "markdown",
      "metadata": {
        "id": "mzfAkWlf_N8K",
        "colab_type": "text"
      },
      "source": [
        "## 4.4 $k$-nearest neighbors\n",
        "Let's try using a $k$-nearest neighbors model to classify the flowers. Here's how $k$-nearest neighbors works: Consider a training dataset $(x_i,y_i), i=1,\\dots, n$ of features $x_i$ and labels $y_i$ and suppose we want to classify a new point $x_{\\text{test}}$. The algorithm finds the $k$ nearest points $x_{k_1},\\dots, x_{k_k}$ to $x_{\\text{test}}$ from the training set. The predicted label for $x_{\\text{test}}$ is then the most frequent class label from $y_{k_1},\\dots, y_{k_k}$. (Here I use the indexing $k_j, j=1,\\dots, k$ rather than just $j=1,\\dots,k$ to denote the fact that the nearest points are not necessarily $x_1,\\dots, x_k$.)\n",
        "\n",
        "Consider an example: Suppose we have a training set $\\{(2, 1), (2, 1), (3, 2), (5, 1), (-1, 2)\\}$ and a new point $x_{\\text{test}}=2$ that we want to classify. Let's choose to use a 3-nearest neighbor classifier. Then the three nearest points in the training set have labels $1, 1$, and $2$. Taking the mode of those values, we predict that $x_{\\text{test}}$ should have label $1$. \n",
        "\n",
        "Note that in general the $x_i$'s don't need to be real values in $\\mathbb{R}$. \n",
        "\n",
        "One nice thing about scikit-learn is that it contains many different machine learning algorithms, and the way you use them is standardized. I.e., the way you call one algorithm is similar to the way you call others."
      ]
    },
    {
      "cell_type": "markdown",
      "metadata": {
        "id": "Jf006dY4_N8L",
        "colab_type": "text"
      },
      "source": [
        "### 4.4.1 Standardizing the data\n",
        "It is often best to standardize the data before inputting it into your model. For a classifiation task we standardize the data by subtracting the mean of the predictors (the $x$'s) and dividing by their standard deviation. We can perform this using Scikit-learn's StandardScaler."
      ]
    },
    {
      "cell_type": "code",
      "metadata": {
        "id": "EtQEwJ-h_N8M",
        "colab_type": "code",
        "colab": {}
      },
      "source": [
        "from sklearn import preprocessing\n",
        "scaler = preprocessing.StandardScaler().fit(X_train)\n",
        "X_train = scaler.transform(X_train)\n",
        "X_test = scaler.transform(X_test)"
      ],
      "execution_count": 0,
      "outputs": []
    },
    {
      "cell_type": "markdown",
      "metadata": {
        "id": "ULDrSnQY_N89",
        "colab_type": "text"
      },
      "source": [
        "### 4.4.2 Fitting the model\n",
        "\n",
        "The $k$-nearest neighbors classifier is implemented in the KNeighborsClassifier class in the neighbors module. The first thing we have to do is load the classifier and instantiate it. If you don't know what classes are, don't worry about it. The important thing is knowing enough to be able to use scikit-learn."
      ]
    },
    {
      "cell_type": "code",
      "metadata": {
        "id": "BYYTPwj8_N8-",
        "colab_type": "code",
        "colab": {}
      },
      "source": [
        "from sklearn.neighbors import KNeighborsClassifier  # Load the classifier\n",
        "knn = KNeighborsClassifier(n_neighbors=1)  # Instantiate the class by giving it n_neighbors (k)"
      ],
      "execution_count": 0,
      "outputs": []
    },
    {
      "cell_type": "markdown",
      "metadata": {
        "id": "Tvc90LPO_N9J",
        "colab_type": "text"
      },
      "source": [
        "The knn object we just created has a bunch of methods that you might find useful. These include:\n",
        "- fit(X,y): Fit the model using X as training data and y as target values\n",
        "- get_params(): Get parameters for this estimator.\n",
        "- kneighbors([X, n_neighbors, return_distance]): Finds the n_neighbors nearest neighbors of a point and returns their distances if return_distance is set to True.\n",
        "- predict(X): Predict the class labels for the provided data\n",
        "- predict_proba(X): Return probability estimates for the test data X.\n",
        "- score(X, y[, sample_weight]): Returns the mean accuracy on the given test data and labels.\n",
        "\n",
        "The *fit* method should be the first one you use, since you need to fit the model before the model is able to do things like make predictions. In order to call one of these methods, you use knn.method_name, where method_name is the name of one of the methods from above. Aside from the kneighbors method, the others are standard across many sklearn algorithms. \n",
        "\n",
        "Let's try fitting our model now."
      ]
    },
    {
      "cell_type": "code",
      "metadata": {
        "id": "m-7Espb1_N9K",
        "colab_type": "code",
        "colab": {}
      },
      "source": [
        "knn.fit(X_train, y_train)  # This modifies the knn object in place"
      ],
      "execution_count": 0,
      "outputs": []
    },
    {
      "cell_type": "markdown",
      "metadata": {
        "id": "PD9vy8Ka_N9Q",
        "colab_type": "text"
      },
      "source": [
        "### 4.4.3 Predicting and computing the accuracy\n",
        "Now that we have fit the data we can try predicting on some new data."
      ]
    },
    {
      "cell_type": "code",
      "metadata": {
        "id": "Uv2dla7O_N9R",
        "colab_type": "code",
        "colab": {}
      },
      "source": [
        "X_new = np.array([[5, 2.9, 1, 0.2]])  # One new data point, but it needs to be in a 2-d array\n",
        "print(\"X_new.shape: {}\".format(X_new.shape))"
      ],
      "execution_count": 0,
      "outputs": []
    },
    {
      "cell_type": "code",
      "metadata": {
        "id": "Ku1EUZ9g_N9h",
        "colab_type": "code",
        "colab": {}
      },
      "source": [
        "prediction = knn.predict(X_new)\n",
        "print(\"Prediction: {}\".format(prediction))\n",
        "print(\"Predicted target name: {}\".format(\n",
        "       iris_dataset['target_names'][prediction]))"
      ],
      "execution_count": 0,
      "outputs": []
    },
    {
      "cell_type": "markdown",
      "metadata": {
        "id": "mamsQE3m_N9n",
        "colab_type": "text"
      },
      "source": [
        "Now let's see how well the model performs on our test set. "
      ]
    },
    {
      "cell_type": "code",
      "metadata": {
        "id": "bBm-mQok_N9o",
        "colab_type": "code",
        "colab": {}
      },
      "source": [
        "y_pred = knn.predict(X_test)\n",
        "print(\"Test set predictions:\\n {}\".format(y_pred))"
      ],
      "execution_count": 0,
      "outputs": []
    },
    {
      "cell_type": "code",
      "metadata": {
        "id": "MP5AKwwA_N9r",
        "colab_type": "code",
        "colab": {}
      },
      "source": [
        "print(\"Test set score: {:.2f}\".format(np.mean(y_pred == y_test)))  # Manually compute the accuracy"
      ],
      "execution_count": 0,
      "outputs": []
    },
    {
      "cell_type": "code",
      "metadata": {
        "id": "A-iRKfD__N91",
        "colab_type": "code",
        "colab": {}
      },
      "source": [
        "print(\"Test set score: {:.2f}\".format(knn.score(X_test, y_test)))  # Use knn.score to compute the accuracy"
      ],
      "execution_count": 0,
      "outputs": []
    },
    {
      "cell_type": "markdown",
      "metadata": {
        "id": "wEgbEF9a_N9_",
        "colab_type": "text"
      },
      "source": [
        "We achieved an accuracy of 92%! In summary, the main functions we used that you need to know are below."
      ]
    },
    {
      "cell_type": "code",
      "metadata": {
        "id": "d7k5pjEW_N-A",
        "colab_type": "code",
        "colab": {}
      },
      "source": [
        "X_train, X_test, y_train, y_test = train_test_split(\n",
        "    iris_dataset['data'], iris_dataset['target'], random_state=0)\n",
        "\n",
        "scaler = preprocessing.StandardScaler().fit(X_train)\n",
        "X_train = scaler.transform(X_train)\n",
        "X_test = scaler.transform(X_test)\n",
        "\n",
        "knn = KNeighborsClassifier(n_neighbors=1)\n",
        "knn.fit(X_train, y_train)\n",
        "\n",
        "print(\"Test set score: {:.2f}\".format(knn.score(X_test, y_test)))"
      ],
      "execution_count": 0,
      "outputs": []
    },
    {
      "cell_type": "markdown",
      "metadata": {
        "id": "yo0Db6wg_N-G",
        "colab_type": "text"
      },
      "source": [
        "You may be wondering how to choose $k$. We will address this in a future lab."
      ]
    }
  ]
}